{
  "nbformat": 4,
  "nbformat_minor": 0,
  "metadata": {
    "colab": {
      "provenance": []
    },
    "kernelspec": {
      "name": "python3",
      "display_name": "Python 3"
    },
    "language_info": {
      "name": "python"
    }
  },
  "cells": [
    {
      "cell_type": "code",
      "execution_count": 1,
      "metadata": {
        "id": "jxtTOcX9gbs_"
      },
      "outputs": [],
      "source": [
        "import matplotlib.pyplot as plt\n",
        "from sklearn.decomposition import PCA\n",
        "from sklearn.datasets import load_iris\n",
        "import pandas as pd\n",
        "\n"
      ]
    },
    {
      "cell_type": "code",
      "source": [
        "# Carregar dataset\n",
        "iris = load_iris()\n",
        "X = iris.data\n",
        "y = iris.target\n",
        "target_names = iris.target_names\n",
        "\n"
      ],
      "metadata": {
        "id": "cTBbeLV8ggs5"
      },
      "execution_count": 2,
      "outputs": []
    },
    {
      "cell_type": "code",
      "source": [
        "# ---------- Visualização em 4 dimensões (scatter matrix) ----------\n",
        "df = pd.DataFrame(X, columns=iris.feature_names)\n",
        "df['target'] = y\n",
        "\n",
        "pd.plotting.scatter_matrix(\n",
        "    df.iloc[:, :-1],\n",
        "    c=df['target'],\n",
        "    figsize=(8, 8),\n",
        "    diagonal='hist',\n",
        "    marker='o',\n",
        "    alpha=0.8\n",
        ")\n",
        "plt.suptitle(\"Visualização em 4 dimensões (scatter matrix)\", y=1.02)\n",
        "plt.show()\n"
      ],
      "metadata": {
        "id": "9W327cJig-P8"
      },
      "execution_count": null,
      "outputs": []
    },
    {
      "cell_type": "code",
      "source": [
        "# ---------- PCA para 2 dimensões ----------\n",
        "pca_2d = PCA(n_components=2)\n",
        "X_pca = pca_2d.fit_transform(X)\n",
        "\n",
        "plt.figure(figsize=(8,6))\n",
        "colors = ['navy', 'turquoise', 'darkorange']\n",
        "for color, i, target_name in zip(colors, [0, 1, 2], target_names):\n",
        "    plt.scatter(\n",
        "        X_pca[y == i, 0],\n",
        "        X_pca[y == i, 1],\n",
        "        alpha=0.7,\n",
        "        color=color,\n",
        "        label=target_name\n",
        "    )\n",
        "\n",
        "plt.xlabel(\"Componente Principal 1\")\n",
        "plt.ylabel(\"Componente Principal 2\")\n",
        "plt.title(\"PCA - Redução de 4 para 2 dimensões\")\n",
        "plt.legend()\n",
        "plt.grid(True)\n",
        "plt.show()\n",
        "\n",
        "print(\"Variância explicada (2D):\", pca_2d.explained_variance_ratio_)"
      ],
      "metadata": {
        "id": "vJ9z_kmPhAFt"
      },
      "execution_count": null,
      "outputs": []
    },
    {
      "cell_type": "code",
      "source": [
        "# ---------- Scree Plot (variância explicada por componente) ----------\n",
        "pca_full = PCA(n_components=4)\n",
        "pca_full.fit(X)\n",
        "\n",
        "plt.figure(figsize=(8,6))\n",
        "plt.bar(range(1, 5), pca_full.explained_variance_ratio_, alpha=0.7, color='skyblue')\n",
        "plt.plot(range(1, 5), pca_full.explained_variance_ratio_, marker='o', color='red')\n",
        "plt.xticks(range(1, 5))\n",
        "plt.xlabel(\"Componente Principal\")\n",
        "plt.ylabel(\"Proporção da Variância Explicada\")\n",
        "plt.title(\"Scree Plot - PCA no dataset Iris\")\n",
        "plt.grid(True)\n",
        "plt.show()\n",
        "\n",
        "print(\"Variância explicada (4D):\", pca_full.explained_variance_ratio_)"
      ],
      "metadata": {
        "id": "QBABBrTchBh1"
      },
      "execution_count": null,
      "outputs": []
    }
  ]
}